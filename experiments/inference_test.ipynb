{
 "cells": [
  {
   "cell_type": "code",
   "execution_count": 11,
   "metadata": {},
   "outputs": [],
   "source": [
    "import sys\n",
    "import tomotopy as tp\n",
    "\n",
    "mdl = tp.LDAModel.load('D:\\M1/fashion/lda_model/lda-fashion-clip-T-100-M-10000-B-1000.bin')"
   ]
  },
  {
   "cell_type": "code",
   "execution_count": 12,
   "metadata": {},
   "outputs": [
    {
     "name": "stdout",
     "output_type": "stream",
     "text": [
      "Running LDA\n",
      "188406\n"
     ]
    }
   ],
   "source": [
    "\n",
    "\"\"\"\n",
    "HYPER PARAMETERS\n",
    "\"\"\"\n",
    "TOPIC_NUM = 100\n",
    "MIN_CF = 10000\n",
    "BURN_IN = 1000\n",
    "\n",
    "\n",
    "def lda_example(lines, mdl):\n",
    "    # mdl = tp.LDAModel(tw=tp.TermWeight.ONE, min_cf=MIN_CF, rm_top=RM_TOP, k=TOPIC_NUM)\n",
    "    \n",
    "    com = []\n",
    "    for line in lines:\n",
    "        ch = line.strip().split()\n",
    "        if len(ch) == 0:\n",
    "            continue\n",
    "        inf_doc = mdl.make_doc(ch)\n",
    "        log_prob = mdl.infer(inf_doc, iter=500)[1]\n",
    "        com.append(log_prob)\n",
    "    return com\n",
    "\n",
    "# You can get the sample data file 'enwiki-stemmed-1000.txt'\n",
    "# at https://drive.google.com/file/d/18OpNijd4iwPyYZ2O7pQoPyeTAKEXa71J/view?usp=sharing\n",
    "with open('D:\\M1/fashion/lda_model/data/fashion_clip/train.txt', 'r', encoding=\"utf-8\") as f:\n",
    "    input_lines = f.read().splitlines()\n",
    "print('Running LDA')\n",
    "print(len(input_lines))\n",
    "\n",
    "\n"
   ]
  },
  {
   "cell_type": "code",
   "execution_count": 14,
   "metadata": {},
   "outputs": [],
   "source": [
    "compatibility = lda_example(input_lines[:100], mdl)"
   ]
  },
  {
   "cell_type": "code",
   "execution_count": 15,
   "metadata": {},
   "outputs": [
    {
     "name": "stdout",
     "output_type": "stream",
     "text": [
      "[-16.667692184448242, -37.62920379638672, -24.15376853942871, -33.494239807128906, -6.559624195098877, -25.908266067504883, -39.757816314697266, -32.515132904052734, -13.04936695098877, -36.34050750732422]\n"
     ]
    }
   ],
   "source": [
    "print(compatibility[:10])"
   ]
  }
 ],
 "metadata": {
  "kernelspec": {
   "display_name": "base",
   "language": "python",
   "name": "python3"
  },
  "language_info": {
   "codemirror_mode": {
    "name": "ipython",
    "version": 3
   },
   "file_extension": ".py",
   "mimetype": "text/x-python",
   "name": "python",
   "nbconvert_exporter": "python",
   "pygments_lexer": "ipython3",
   "version": "3.9.7"
  },
  "orig_nbformat": 4
 },
 "nbformat": 4,
 "nbformat_minor": 2
}
