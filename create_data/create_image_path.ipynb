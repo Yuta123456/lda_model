{
 "cells": [
  {
   "cell_type": "code",
   "execution_count": null,
   "metadata": {},
   "outputs": [],
   "source": [
    "import pandas as pd\n",
    "import os\n",
    "import sys\n",
    "sys.path.append(\"../\")\n",
    "\n",
    "\n",
    "import glob\n",
    "import pandas as pd"
   ]
  },
  {
   "cell_type": "code",
   "execution_count": null,
   "metadata": {},
   "outputs": [],
   "source": [
    "with open('D:\\M1/fashion/lda_model/data/fashion_clip.txt', mode=\"r\", encoding=\"utf-8\") as f:\n",
    "    data = f.read().splitlines()\n",
    "item_info = {}\n",
    "for i in data:\n",
    "    item_id, category, color = i.split(' ')\n",
    "    item_info[item_id] = f'{category} {color}'\n"
   ]
  },
  {
   "cell_type": "code",
   "execution_count": null,
   "metadata": {},
   "outputs": [],
   "source": [
    "count = {}\n",
    "with open('D:\\M1/fashion/lda_model/data/filepath/train.txt', 'r', encoding=\"utf-8\") as f:\n",
    "    filepaths = f.read().splitlines()\n",
    "\n",
    "file_count = len(filepaths)\n",
    "output_file = \"D:\\M1/fashion/lda_model/data/fashion_clip/train.txt\"\n",
    "c = 0\n",
    "with open(output_file, mode=\"w\", encoding=\"utf-8\") as f:\n",
    "    for fp in filepaths:\n",
    "        c += 1\n",
    "        try:\n",
    "            json_dict = pd.read_json(fp, encoding='shift-jis')\n",
    "        except Exception as e:\n",
    "            continue\n",
    "        # documentを格納\n",
    "        words = []\n",
    "        for item in json_dict[\"items\"]:\n",
    "            if (\"itemId\" not in item or len(item[\"itemId\"]) == 0):\n",
    "                continue\n",
    "            item_id = item[\"itemId\"]\n",
    "            words.append(item_info[item_id])\n",
    "        document = \" \".join(words) + \"\\n\"\n",
    "        f.write(document)\n",
    "        if (c % 100 == 0):\n",
    "            print(f\"{c * 100 / file_count}%終了\")\n"
   ]
  }
 ],
 "metadata": {
  "kernelspec": {
   "display_name": "base",
   "language": "python",
   "name": "python3"
  },
  "language_info": {
   "codemirror_mode": {
    "name": "ipython",
    "version": 3
   },
   "file_extension": ".py",
   "mimetype": "text/x-python",
   "name": "python",
   "nbconvert_exporter": "python",
   "pygments_lexer": "ipython3",
   "version": "3.9.7"
  },
  "orig_nbformat": 4
 },
 "nbformat": 4,
 "nbformat_minor": 2
}
